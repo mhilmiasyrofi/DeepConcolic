{
 "cells": [
  {
   "cell_type": "markdown",
   "metadata": {},
   "source": [
    "# Convert Pytorch Model into Tensorflow Model and Keras"
   ]
  },
  {
   "cell_type": "markdown",
   "metadata": {},
   "source": [
    "Ref: https://github.com/aobo-y/hair-dye/blob/master/src/torch2tf.ipynb"
   ]
  },
  {
   "cell_type": "markdown",
   "metadata": {},
   "source": [
    "In this notebook, my environment is as follows, torch version is 0.4.1.  \n",
    "\n",
    "\n",
    "`pip install tensorflow==1.13.1 onnx==1.2.1 onnx-tf==1.1.2`\n",
    "\n",
    "\n",
    "make sure the version. some version may cause Upsample version 1 is not implemented problem.\n",
    "If that happens try to roll back to older versions"
   ]
  },
  {
   "cell_type": "code",
   "execution_count": 7,
   "metadata": {
    "ExecuteTime": {
     "end_time": "2019-08-09T14:13:36.842649Z",
     "start_time": "2019-08-09T14:13:36.838018Z"
    }
   },
   "outputs": [],
   "source": [
    "import os\n",
    "import torch\n",
    "from torch.autograd import Variable\n",
    "import torchvision.transforms as transforms\n",
    "import numpy as np\n",
    "import matplotlib.pyplot as plt\n",
    "from PIL import Image\n",
    "import onnx\n",
    "from onnx import version_converter, helper"
   ]
  },
  {
   "cell_type": "code",
   "execution_count": 8,
   "metadata": {
    "ExecuteTime": {
     "end_time": "2019-08-09T14:13:37.482758Z",
     "start_time": "2019-08-09T14:13:37.476270Z"
    }
   },
   "outputs": [],
   "source": [
    "from models import *"
   ]
  },
  {
   "cell_type": "code",
   "execution_count": 10,
   "metadata": {
    "ExecuteTime": {
     "end_time": "2019-08-09T14:13:38.377808Z",
     "start_time": "2019-08-09T14:13:38.373125Z"
    }
   },
   "outputs": [
    {
     "name": "stdout",
     "output_type": "stream",
     "text": [
      "1.5.1\n",
      "1.7.0\n"
     ]
    }
   ],
   "source": [
    "print(torch.__version__)\n",
    "print(onnx.__version__)"
   ]
  },
  {
   "cell_type": "markdown",
   "metadata": {},
   "source": [
    "# configurations"
   ]
  },
  {
   "cell_type": "code",
   "execution_count": 11,
   "metadata": {
    "ExecuteTime": {
     "end_time": "2019-08-09T14:13:39.755329Z",
     "start_time": "2019-08-09T14:13:39.749885Z"
    }
   },
   "outputs": [],
   "source": [
    "USE_CUDA = torch.cuda.is_available()\n",
    "device = torch.device('cuda' if USE_CUDA else 'cpu')\n",
    "DIR_PATH = os.path.abspath('') # current path\n",
    "SAVE_PATH = os.path.join(DIR_PATH, \"models/state_dicts/\")\n",
    "TORCH_MODEL_PATH = os.path.join(SAVE_PATH, \"resnet18.pt\")\n",
    "ONNX_MODEL_PATH = os.path.join(SAVE_PATH, \"resnet18.onnx\")\n",
    "TF_MODEL_PATH = os.path.join(SAVE_PATH, \"resnet18.pb\")\n"
   ]
  },
  {
   "cell_type": "code",
   "execution_count": 12,
   "metadata": {},
   "outputs": [
    {
     "data": {
      "text/plain": [
       "True"
      ]
     },
     "execution_count": 12,
     "metadata": {},
     "output_type": "execute_result"
    }
   ],
   "source": [
    "USE_CUDA"
   ]
  },
  {
   "cell_type": "code",
   "execution_count": 13,
   "metadata": {},
   "outputs": [
    {
     "name": "stdout",
     "output_type": "stream",
     "text": [
      "cuda\n"
     ]
    }
   ],
   "source": [
    "print(device)"
   ]
  },
  {
   "cell_type": "code",
   "execution_count": 14,
   "metadata": {
    "ExecuteTime": {
     "end_time": "2019-08-09T14:13:40.354275Z",
     "start_time": "2019-08-09T14:13:40.349715Z"
    }
   },
   "outputs": [
    {
     "name": "stdout",
     "output_type": "stream",
     "text": [
      "/workspace/Documents/DeepConcolic/models/state_dicts/resnet18.pt\n"
     ]
    }
   ],
   "source": [
    "print(TORCH_MODEL_PATH)"
   ]
  },
  {
   "cell_type": "markdown",
   "metadata": {},
   "source": [
    "# load torch model and export it to ONNX model"
   ]
  },
  {
   "cell_type": "code",
   "execution_count": 15,
   "metadata": {
    "ExecuteTime": {
     "end_time": "2019-08-09T14:13:41.202939Z",
     "start_time": "2019-08-09T14:13:41.198427Z"
    }
   },
   "outputs": [],
   "source": [
    "def build_model(path, device):\n",
    "    model = resnet18(pretrained=True)\n",
    "    \n",
    "    return model\n"
   ]
  },
  {
   "cell_type": "code",
   "execution_count": 16,
   "metadata": {
    "ExecuteTime": {
     "end_time": "2019-08-09T14:39:37.855157Z",
     "start_time": "2019-08-09T14:39:32.944042Z"
    }
   },
   "outputs": [
    {
     "name": "stdout",
     "output_type": "stream",
     "text": [
      "Run using pretrained model\n",
      "output size:  torch.Size([1, 10])\n",
      "graph(%input : Float(1, 3, 32, 32),\n",
      "      %conv1.weight : Float(64, 3, 3, 3),\n",
      "      %bn1.weight : Float(64),\n",
      "      %bn1.bias : Float(64),\n",
      "      %bn1.running_mean : Float(64),\n",
      "      %bn1.running_var : Float(64),\n",
      "      %layer1.0.conv1.weight : Float(64, 64, 3, 3),\n",
      "      %layer1.0.bn1.weight : Float(64),\n",
      "      %layer1.0.bn1.bias : Float(64),\n",
      "      %layer1.0.bn1.running_mean : Float(64),\n",
      "      %layer1.0.bn1.running_var : Float(64),\n",
      "      %layer1.0.conv2.weight : Float(64, 64, 3, 3),\n",
      "      %layer1.0.bn2.weight : Float(64),\n",
      "      %layer1.0.bn2.bias : Float(64),\n",
      "      %layer1.0.bn2.running_mean : Float(64),\n",
      "      %layer1.0.bn2.running_var : Float(64),\n",
      "      %layer1.1.conv1.weight : Float(64, 64, 3, 3),\n",
      "      %layer1.1.bn1.weight : Float(64),\n",
      "      %layer1.1.bn1.bias : Float(64),\n",
      "      %layer1.1.bn1.running_mean : Float(64),\n",
      "      %layer1.1.bn1.running_var : Float(64),\n",
      "      %layer1.1.conv2.weight : Float(64, 64, 3, 3),\n",
      "      %layer1.1.bn2.weight : Float(64),\n",
      "      %layer1.1.bn2.bias : Float(64),\n",
      "      %layer1.1.bn2.running_mean : Float(64),\n",
      "      %layer1.1.bn2.running_var : Float(64),\n",
      "      %layer2.0.conv1.weight : Float(128, 64, 3, 3),\n",
      "      %layer2.0.bn1.weight : Float(128),\n",
      "      %layer2.0.bn1.bias : Float(128),\n",
      "      %layer2.0.bn1.running_mean : Float(128),\n",
      "      %layer2.0.bn1.running_var : Float(128),\n",
      "      %layer2.0.conv2.weight : Float(128, 128, 3, 3),\n",
      "      %layer2.0.bn2.weight : Float(128),\n",
      "      %layer2.0.bn2.bias : Float(128),\n",
      "      %layer2.0.bn2.running_mean : Float(128),\n",
      "      %layer2.0.bn2.running_var : Float(128),\n",
      "      %layer2.0.downsample.0.weight : Float(128, 64, 1, 1),\n",
      "      %layer2.0.downsample.1.weight : Float(128),\n",
      "      %layer2.0.downsample.1.bias : Float(128),\n",
      "      %layer2.0.downsample.1.running_mean : Float(128),\n",
      "      %layer2.0.downsample.1.running_var : Float(128),\n",
      "      %layer2.1.conv1.weight : Float(128, 128, 3, 3),\n",
      "      %layer2.1.bn1.weight : Float(128),\n",
      "      %layer2.1.bn1.bias : Float(128),\n",
      "      %layer2.1.bn1.running_mean : Float(128),\n",
      "      %layer2.1.bn1.running_var : Float(128),\n",
      "      %layer2.1.conv2.weight : Float(128, 128, 3, 3),\n",
      "      %layer2.1.bn2.weight : Float(128),\n",
      "      %layer2.1.bn2.bias : Float(128),\n",
      "      %layer2.1.bn2.running_mean : Float(128),\n",
      "      %layer2.1.bn2.running_var : Float(128),\n",
      "      %layer3.0.conv1.weight : Float(256, 128, 3, 3),\n",
      "      %layer3.0.bn1.weight : Float(256),\n",
      "      %layer3.0.bn1.bias : Float(256),\n",
      "      %layer3.0.bn1.running_mean : Float(256),\n",
      "      %layer3.0.bn1.running_var : Float(256),\n",
      "      %layer3.0.conv2.weight : Float(256, 256, 3, 3),\n",
      "      %layer3.0.bn2.weight : Float(256),\n",
      "      %layer3.0.bn2.bias : Float(256),\n",
      "      %layer3.0.bn2.running_mean : Float(256),\n",
      "      %layer3.0.bn2.running_var : Float(256),\n",
      "      %layer3.0.downsample.0.weight : Float(256, 128, 1, 1),\n",
      "      %layer3.0.downsample.1.weight : Float(256),\n",
      "      %layer3.0.downsample.1.bias : Float(256),\n",
      "      %layer3.0.downsample.1.running_mean : Float(256),\n",
      "      %layer3.0.downsample.1.running_var : Float(256),\n",
      "      %layer3.1.conv1.weight : Float(256, 256, 3, 3),\n",
      "      %layer3.1.bn1.weight : Float(256),\n",
      "      %layer3.1.bn1.bias : Float(256),\n",
      "      %layer3.1.bn1.running_mean : Float(256),\n",
      "      %layer3.1.bn1.running_var : Float(256),\n",
      "      %layer3.1.conv2.weight : Float(256, 256, 3, 3),\n",
      "      %layer3.1.bn2.weight : Float(256),\n",
      "      %layer3.1.bn2.bias : Float(256),\n",
      "      %layer3.1.bn2.running_mean : Float(256),\n",
      "      %layer3.1.bn2.running_var : Float(256),\n",
      "      %layer4.0.conv1.weight : Float(512, 256, 3, 3),\n",
      "      %layer4.0.bn1.weight : Float(512),\n",
      "      %layer4.0.bn1.bias : Float(512),\n",
      "      %layer4.0.bn1.running_mean : Float(512),\n",
      "      %layer4.0.bn1.running_var : Float(512),\n",
      "      %layer4.0.conv2.weight : Float(512, 512, 3, 3),\n",
      "      %layer4.0.bn2.weight : Float(512),\n",
      "      %layer4.0.bn2.bias : Float(512),\n",
      "      %layer4.0.bn2.running_mean : Float(512),\n",
      "      %layer4.0.bn2.running_var : Float(512),\n",
      "      %layer4.0.downsample.0.weight : Float(512, 256, 1, 1),\n",
      "      %layer4.0.downsample.1.weight : Float(512),\n",
      "      %layer4.0.downsample.1.bias : Float(512),\n",
      "      %layer4.0.downsample.1.running_mean : Float(512),\n",
      "      %layer4.0.downsample.1.running_var : Float(512),\n",
      "      %layer4.1.conv1.weight : Float(512, 512, 3, 3),\n",
      "      %layer4.1.bn1.weight : Float(512),\n",
      "      %layer4.1.bn1.bias : Float(512),\n",
      "      %layer4.1.bn1.running_mean : Float(512),\n",
      "      %layer4.1.bn1.running_var : Float(512),\n",
      "      %layer4.1.conv2.weight : Float(512, 512, 3, 3),\n",
      "      %layer4.1.bn2.weight : Float(512),\n",
      "      %layer4.1.bn2.bias : Float(512),\n",
      "      %layer4.1.bn2.running_mean : Float(512),\n",
      "      %layer4.1.bn2.running_var : Float(512),\n",
      "      %fc.weight : Float(10, 512),\n",
      "      %fc.bias : Float(10),\n",
      "      %199 : Long(1)):\n",
      "  %123 : Float(1, 64, 32, 32) = onnx::Conv[dilations=[1, 1], group=1, kernel_shape=[3, 3], pads=[1, 1, 1, 1], strides=[1, 1]](%input, %conv1.weight) # /opt/conda/lib/python3.7/site-packages/torch/nn/modules/conv.py:350:0\n",
      "  %124 : Float(1, 64, 32, 32) = onnx::BatchNormalization[epsilon=1.0000000000000001e-05, momentum=0.90000000000000002](%123, %bn1.weight, %bn1.bias, %bn1.running_mean, %bn1.running_var) # /opt/conda/lib/python3.7/site-packages/torch/nn/functional.py:1923:0\n",
      "  %125 : Float(1, 64, 32, 32) = onnx::Relu(%124) # /opt/conda/lib/python3.7/site-packages/torch/nn/functional.py:1061:0\n",
      "  %126 : Float(1, 64, 16, 16) = onnx::MaxPool[kernel_shape=[3, 3], pads=[1, 1, 1, 1], strides=[2, 2]](%125) # /opt/conda/lib/python3.7/site-packages/torch/nn/functional.py:539:0\n",
      "  %127 : Float(1, 64, 16, 16) = onnx::Conv[dilations=[1, 1], group=1, kernel_shape=[3, 3], pads=[1, 1, 1, 1], strides=[1, 1]](%126, %layer1.0.conv1.weight) # /opt/conda/lib/python3.7/site-packages/torch/nn/modules/conv.py:350:0\n",
      "  %128 : Float(1, 64, 16, 16) = onnx::BatchNormalization[epsilon=1.0000000000000001e-05, momentum=0.90000000000000002](%127, %layer1.0.bn1.weight, %layer1.0.bn1.bias, %layer1.0.bn1.running_mean, %layer1.0.bn1.running_var) # /opt/conda/lib/python3.7/site-packages/torch/nn/functional.py:1923:0\n",
      "  %129 : Float(1, 64, 16, 16) = onnx::Relu(%128) # /opt/conda/lib/python3.7/site-packages/torch/nn/functional.py:1061:0\n",
      "  %130 : Float(1, 64, 16, 16) = onnx::Conv[dilations=[1, 1], group=1, kernel_shape=[3, 3], pads=[1, 1, 1, 1], strides=[1, 1]](%129, %layer1.0.conv2.weight) # /opt/conda/lib/python3.7/site-packages/torch/nn/modules/conv.py:350:0\n",
      "  %131 : Float(1, 64, 16, 16) = onnx::BatchNormalization[epsilon=1.0000000000000001e-05, momentum=0.90000000000000002](%130, %layer1.0.bn2.weight, %layer1.0.bn2.bias, %layer1.0.bn2.running_mean, %layer1.0.bn2.running_var) # /opt/conda/lib/python3.7/site-packages/torch/nn/functional.py:1923:0\n",
      "  %132 : Float(1, 64, 16, 16) = onnx::Add(%131, %126)\n",
      "  %133 : Float(1, 64, 16, 16) = onnx::Relu(%132) # /opt/conda/lib/python3.7/site-packages/torch/nn/functional.py:1061:0\n",
      "  %134 : Float(1, 64, 16, 16) = onnx::Conv[dilations=[1, 1], group=1, kernel_shape=[3, 3], pads=[1, 1, 1, 1], strides=[1, 1]](%133, %layer1.1.conv1.weight) # /opt/conda/lib/python3.7/site-packages/torch/nn/modules/conv.py:350:0\n",
      "  %135 : Float(1, 64, 16, 16) = onnx::BatchNormalization[epsilon=1.0000000000000001e-05, momentum=0.90000000000000002](%134, %layer1.1.bn1.weight, %layer1.1.bn1.bias, %layer1.1.bn1.running_mean, %layer1.1.bn1.running_var) # /opt/conda/lib/python3.7/site-packages/torch/nn/functional.py:1923:0\n",
      "  %136 : Float(1, 64, 16, 16) = onnx::Relu(%135) # /opt/conda/lib/python3.7/site-packages/torch/nn/functional.py:1061:0\n",
      "  %137 : Float(1, 64, 16, 16) = onnx::Conv[dilations=[1, 1], group=1, kernel_shape=[3, 3], pads=[1, 1, 1, 1], strides=[1, 1]](%136, %layer1.1.conv2.weight) # /opt/conda/lib/python3.7/site-packages/torch/nn/modules/conv.py:350:0\n",
      "  %138 : Float(1, 64, 16, 16) = onnx::BatchNormalization[epsilon=1.0000000000000001e-05, momentum=0.90000000000000002](%137, %layer1.1.bn2.weight, %layer1.1.bn2.bias, %layer1.1.bn2.running_mean, %layer1.1.bn2.running_var) # /opt/conda/lib/python3.7/site-packages/torch/nn/functional.py:1923:0\n",
      "  %139 : Float(1, 64, 16, 16) = onnx::Add(%138, %133)\n",
      "  %140 : Float(1, 64, 16, 16) = onnx::Relu(%139) # /opt/conda/lib/python3.7/site-packages/torch/nn/functional.py:1061:0\n",
      "  %141 : Float(1, 128, 8, 8) = onnx::Conv[dilations=[1, 1], group=1, kernel_shape=[3, 3], pads=[1, 1, 1, 1], strides=[2, 2]](%140, %layer2.0.conv1.weight) # /opt/conda/lib/python3.7/site-packages/torch/nn/modules/conv.py:350:0\n",
      "  %142 : Float(1, 128, 8, 8) = onnx::BatchNormalization[epsilon=1.0000000000000001e-05, momentum=0.90000000000000002](%141, %layer2.0.bn1.weight, %layer2.0.bn1.bias, %layer2.0.bn1.running_mean, %layer2.0.bn1.running_var) # /opt/conda/lib/python3.7/site-packages/torch/nn/functional.py:1923:0\n",
      "  %143 : Float(1, 128, 8, 8) = onnx::Relu(%142) # /opt/conda/lib/python3.7/site-packages/torch/nn/functional.py:1061:0\n",
      "  %144 : Float(1, 128, 8, 8) = onnx::Conv[dilations=[1, 1], group=1, kernel_shape=[3, 3], pads=[1, 1, 1, 1], strides=[1, 1]](%143, %layer2.0.conv2.weight) # /opt/conda/lib/python3.7/site-packages/torch/nn/modules/conv.py:350:0\n",
      "  %145 : Float(1, 128, 8, 8) = onnx::BatchNormalization[epsilon=1.0000000000000001e-05, momentum=0.90000000000000002](%144, %layer2.0.bn2.weight, %layer2.0.bn2.bias, %layer2.0.bn2.running_mean, %layer2.0.bn2.running_var) # /opt/conda/lib/python3.7/site-packages/torch/nn/functional.py:1923:0\n",
      "  %146 : Float(1, 128, 8, 8) = onnx::Conv[dilations=[1, 1], group=1, kernel_shape=[1, 1], pads=[0, 0, 0, 0], strides=[2, 2]](%140, %layer2.0.downsample.0.weight) # /opt/conda/lib/python3.7/site-packages/torch/nn/modules/conv.py:350:0\n",
      "  %147 : Float(1, 128, 8, 8) = onnx::BatchNormalization[epsilon=1.0000000000000001e-05, momentum=0.90000000000000002](%146, %layer2.0.downsample.1.weight, %layer2.0.downsample.1.bias, %layer2.0.downsample.1.running_mean, %layer2.0.downsample.1.running_var) # /opt/conda/lib/python3.7/site-packages/torch/nn/functional.py:1923:0\n",
      "  %148 : Float(1, 128, 8, 8) = onnx::Add(%145, %147)\n",
      "  %149 : Float(1, 128, 8, 8) = onnx::Relu(%148) # /opt/conda/lib/python3.7/site-packages/torch/nn/functional.py:1061:0\n",
      "  %150 : Float(1, 128, 8, 8) = onnx::Conv[dilations=[1, 1], group=1, kernel_shape=[3, 3], pads=[1, 1, 1, 1], strides=[1, 1]](%149, %layer2.1.conv1.weight) # /opt/conda/lib/python3.7/site-packages/torch/nn/modules/conv.py:350:0\n",
      "  %151 : Float(1, 128, 8, 8) = onnx::BatchNormalization[epsilon=1.0000000000000001e-05, momentum=0.90000000000000002](%150, %layer2.1.bn1.weight, %layer2.1.bn1.bias, %layer2.1.bn1.running_mean, %layer2.1.bn1.running_var) # /opt/conda/lib/python3.7/site-packages/torch/nn/functional.py:1923:0\n",
      "  %152 : Float(1, 128, 8, 8) = onnx::Relu(%151) # /opt/conda/lib/python3.7/site-packages/torch/nn/functional.py:1061:0\n",
      "  %153 : Float(1, 128, 8, 8) = onnx::Conv[dilations=[1, 1], group=1, kernel_shape=[3, 3], pads=[1, 1, 1, 1], strides=[1, 1]](%152, %layer2.1.conv2.weight) # /opt/conda/lib/python3.7/site-packages/torch/nn/modules/conv.py:350:0\n",
      "  %154 : Float(1, 128, 8, 8) = onnx::BatchNormalization[epsilon=1.0000000000000001e-05, momentum=0.90000000000000002](%153, %layer2.1.bn2.weight, %layer2.1.bn2.bias, %layer2.1.bn2.running_mean, %layer2.1.bn2.running_var) # /opt/conda/lib/python3.7/site-packages/torch/nn/functional.py:1923:0\n",
      "  %155 : Float(1, 128, 8, 8) = onnx::Add(%154, %149)\n",
      "  %156 : Float(1, 128, 8, 8) = onnx::Relu(%155) # /opt/conda/lib/python3.7/site-packages/torch/nn/functional.py:1061:0\n",
      "  %157 : Float(1, 256, 4, 4) = onnx::Conv[dilations=[1, 1], group=1, kernel_shape=[3, 3], pads=[1, 1, 1, 1], strides=[2, 2]](%156, %layer3.0.conv1.weight) # /opt/conda/lib/python3.7/site-packages/torch/nn/modules/conv.py:350:0\n",
      "  %158 : Float(1, 256, 4, 4) = onnx::BatchNormalization[epsilon=1.0000000000000001e-05, momentum=0.90000000000000002](%157, %layer3.0.bn1.weight, %layer3.0.bn1.bias, %layer3.0.bn1.running_mean, %layer3.0.bn1.running_var) # /opt/conda/lib/python3.7/site-packages/torch/nn/functional.py:1923:0\n",
      "  %159 : Float(1, 256, 4, 4) = onnx::Relu(%158) # /opt/conda/lib/python3.7/site-packages/torch/nn/functional.py:1061:0\n",
      "  %160 : Float(1, 256, 4, 4) = onnx::Conv[dilations=[1, 1], group=1, kernel_shape=[3, 3], pads=[1, 1, 1, 1], strides=[1, 1]](%159, %layer3.0.conv2.weight) # /opt/conda/lib/python3.7/site-packages/torch/nn/modules/conv.py:350:0\n",
      "  %161 : Float(1, 256, 4, 4) = onnx::BatchNormalization[epsilon=1.0000000000000001e-05, momentum=0.90000000000000002](%160, %layer3.0.bn2.weight, %layer3.0.bn2.bias, %layer3.0.bn2.running_mean, %layer3.0.bn2.running_var) # /opt/conda/lib/python3.7/site-packages/torch/nn/functional.py:1923:0\n",
      "  %162 : Float(1, 256, 4, 4) = onnx::Conv[dilations=[1, 1], group=1, kernel_shape=[1, 1], pads=[0, 0, 0, 0], strides=[2, 2]](%156, %layer3.0.downsample.0.weight) # /opt/conda/lib/python3.7/site-packages/torch/nn/modules/conv.py:350:0\n",
      "  %163 : Float(1, 256, 4, 4) = onnx::BatchNormalization[epsilon=1.0000000000000001e-05, momentum=0.90000000000000002](%162, %layer3.0.downsample.1.weight, %layer3.0.downsample.1.bias, %layer3.0.downsample.1.running_mean, %layer3.0.downsample.1.running_var) # /opt/conda/lib/python3.7/site-packages/torch/nn/functional.py:1923:0\n",
      "  %164 : Float(1, 256, 4, 4) = onnx::Add(%161, %163)\n",
      "  %165 : Float(1, 256, 4, 4) = onnx::Relu(%164) # /opt/conda/lib/python3.7/site-packages/torch/nn/functional.py:1061:0\n",
      "  %166 : Float(1, 256, 4, 4) = onnx::Conv[dilations=[1, 1], group=1, kernel_shape=[3, 3], pads=[1, 1, 1, 1], strides=[1, 1]](%165, %layer3.1.conv1.weight) # /opt/conda/lib/python3.7/site-packages/torch/nn/modules/conv.py:350:0\n",
      "  %167 : Float(1, 256, 4, 4) = onnx::BatchNormalization[epsilon=1.0000000000000001e-05, momentum=0.90000000000000002](%166, %layer3.1.bn1.weight, %layer3.1.bn1.bias, %layer3.1.bn1.running_mean, %layer3.1.bn1.running_var) # /opt/conda/lib/python3.7/site-packages/torch/nn/functional.py:1923:0\n",
      "  %168 : Float(1, 256, 4, 4) = onnx::Relu(%167) # /opt/conda/lib/python3.7/site-packages/torch/nn/functional.py:1061:0\n",
      "  %169 : Float(1, 256, 4, 4) = onnx::Conv[dilations=[1, 1], group=1, kernel_shape=[3, 3], pads=[1, 1, 1, 1], strides=[1, 1]](%168, %layer3.1.conv2.weight) # /opt/conda/lib/python3.7/site-packages/torch/nn/modules/conv.py:350:0\n",
      "  %170 : Float(1, 256, 4, 4) = onnx::BatchNormalization[epsilon=1.0000000000000001e-05, momentum=0.90000000000000002](%169, %layer3.1.bn2.weight, %layer3.1.bn2.bias, %layer3.1.bn2.running_mean, %layer3.1.bn2.running_var) # /opt/conda/lib/python3.7/site-packages/torch/nn/functional.py:1923:0\n",
      "  %171 : Float(1, 256, 4, 4) = onnx::Add(%170, %165)\n",
      "  %172 : Float(1, 256, 4, 4) = onnx::Relu(%171) # /opt/conda/lib/python3.7/site-packages/torch/nn/functional.py:1061:0\n",
      "  %173 : Float(1, 512, 2, 2) = onnx::Conv[dilations=[1, 1], group=1, kernel_shape=[3, 3], pads=[1, 1, 1, 1], strides=[2, 2]](%172, %layer4.0.conv1.weight) # /opt/conda/lib/python3.7/site-packages/torch/nn/modules/conv.py:350:0\n",
      "  %174 : Float(1, 512, 2, 2) = onnx::BatchNormalization[epsilon=1.0000000000000001e-05, momentum=0.90000000000000002](%173, %layer4.0.bn1.weight, %layer4.0.bn1.bias, %layer4.0.bn1.running_mean, %layer4.0.bn1.running_var) # /opt/conda/lib/python3.7/site-packages/torch/nn/functional.py:1923:0\n",
      "  %175 : Float(1, 512, 2, 2) = onnx::Relu(%174) # /opt/conda/lib/python3.7/site-packages/torch/nn/functional.py:1061:0\n",
      "  %176 : Float(1, 512, 2, 2) = onnx::Conv[dilations=[1, 1], group=1, kernel_shape=[3, 3], pads=[1, 1, 1, 1], strides=[1, 1]](%175, %layer4.0.conv2.weight) # /opt/conda/lib/python3.7/site-packages/torch/nn/modules/conv.py:350:0\n",
      "  %177 : Float(1, 512, 2, 2) = onnx::BatchNormalization[epsilon=1.0000000000000001e-05, momentum=0.90000000000000002](%176, %layer4.0.bn2.weight, %layer4.0.bn2.bias, %layer4.0.bn2.running_mean, %layer4.0.bn2.running_var) # /opt/conda/lib/python3.7/site-packages/torch/nn/functional.py:1923:0\n",
      "  %178 : Float(1, 512, 2, 2) = onnx::Conv[dilations=[1, 1], group=1, kernel_shape=[1, 1], pads=[0, 0, 0, 0], strides=[2, 2]](%172, %layer4.0.downsample.0.weight) # /opt/conda/lib/python3.7/site-packages/torch/nn/modules/conv.py:350:0\n",
      "  %179 : Float(1, 512, 2, 2) = onnx::BatchNormalization[epsilon=1.0000000000000001e-05, momentum=0.90000000000000002](%178, %layer4.0.downsample.1.weight, %layer4.0.downsample.1.bias, %layer4.0.downsample.1.running_mean, %layer4.0.downsample.1.running_var) # /opt/conda/lib/python3.7/site-packages/torch/nn/functional.py:1923:0\n",
      "  %180 : Float(1, 512, 2, 2) = onnx::Add(%177, %179)\n",
      "  %181 : Float(1, 512, 2, 2) = onnx::Relu(%180) # /opt/conda/lib/python3.7/site-packages/torch/nn/functional.py:1061:0\n",
      "  %182 : Float(1, 512, 2, 2) = onnx::Conv[dilations=[1, 1], group=1, kernel_shape=[3, 3], pads=[1, 1, 1, 1], strides=[1, 1]](%181, %layer4.1.conv1.weight) # /opt/conda/lib/python3.7/site-packages/torch/nn/modules/conv.py:350:0\n",
      "  %183 : Float(1, 512, 2, 2) = onnx::BatchNormalization[epsilon=1.0000000000000001e-05, momentum=0.90000000000000002](%182, %layer4.1.bn1.weight, %layer4.1.bn1.bias, %layer4.1.bn1.running_mean, %layer4.1.bn1.running_var) # /opt/conda/lib/python3.7/site-packages/torch/nn/functional.py:1923:0\n",
      "  %184 : Float(1, 512, 2, 2) = onnx::Relu(%183) # /opt/conda/lib/python3.7/site-packages/torch/nn/functional.py:1061:0\n",
      "  %185 : Float(1, 512, 2, 2) = onnx::Conv[dilations=[1, 1], group=1, kernel_shape=[3, 3], pads=[1, 1, 1, 1], strides=[1, 1]](%184, %layer4.1.conv2.weight) # /opt/conda/lib/python3.7/site-packages/torch/nn/modules/conv.py:350:0\n",
      "  %186 : Float(1, 512, 2, 2) = onnx::BatchNormalization[epsilon=1.0000000000000001e-05, momentum=0.90000000000000002](%185, %layer4.1.bn2.weight, %layer4.1.bn2.bias, %layer4.1.bn2.running_mean, %layer4.1.bn2.running_var) # /opt/conda/lib/python3.7/site-packages/torch/nn/functional.py:1923:0\n",
      "  %187 : Float(1, 512, 2, 2) = onnx::Add(%186, %181)\n",
      "  %188 : Float(1, 512, 2, 2) = onnx::Relu(%187) # /opt/conda/lib/python3.7/site-packages/torch/nn/functional.py:1061:0\n",
      "  %189 : Float(1, 512, 1, 1) = onnx::GlobalAveragePool(%188) # /opt/conda/lib/python3.7/site-packages/torch/nn/functional.py:889:0\n",
      "  %190 : Tensor = onnx::Shape(%189)\n",
      "  %191 : Tensor = onnx::Constant[value={0}]()\n",
      "  %192 : Long() = onnx::Gather[axis=0](%190, %191) # /workspace/Documents/DeepConcolic/models/resnet.py:194:0\n",
      "  %194 : Tensor = onnx::Unsqueeze[axes=[0]](%192)\n",
      "  %196 : Tensor = onnx::Concat[axis=0](%194, %199)\n",
      "  %197 : Float(1, 512) = onnx::Reshape(%189, %196) # /workspace/Documents/DeepConcolic/models/resnet.py:194:0\n",
      "  %output : Float(1, 10) = onnx::Gemm[alpha=1., beta=1., transB=1](%197, %fc.weight, %fc.bias) # /opt/conda/lib/python3.7/site-packages/torch/nn/functional.py:1610:0\n",
      "  return (%output)\n",
      "\n"
     ]
    }
   ],
   "source": [
    "torch_model = build_model(TORCH_MODEL_PATH, device)\n",
    "# export model to ONNX\n",
    "# ONNX need a dummy input\n",
    "dummy_input = Variable(torch.randn(1, 3, 32, 32))\n",
    "pred = torch_model(dummy_input)\n",
    "print(\"output size: \", pred.size())\n",
    "\n",
    "input_names = [\"input\"]\n",
    "output_names = [\"output\"]\n",
    "torch.onnx.export(torch_model, dummy_input, ONNX_MODEL_PATH, export_params=True, verbose=True, input_names=input_names, output_names=output_names)"
   ]
  }
 ],
 "metadata": {
  "hide_input": false,
  "kernelspec": {
   "display_name": "Python 3",
   "language": "python",
   "name": "python3"
  },
  "language_info": {
   "codemirror_mode": {
    "name": "ipython",
    "version": 3
   },
   "file_extension": ".py",
   "mimetype": "text/x-python",
   "name": "python",
   "nbconvert_exporter": "python",
   "pygments_lexer": "ipython3",
   "version": "3.7.7"
  },
  "toc": {
   "base_numbering": 1,
   "nav_menu": {},
   "number_sections": true,
   "sideBar": true,
   "skip_h1_title": false,
   "title_cell": "Table of Contents",
   "title_sidebar": "Contents",
   "toc_cell": false,
   "toc_position": {},
   "toc_section_display": true,
   "toc_window_display": false
  },
  "varInspector": {
   "cols": {
    "lenName": 16,
    "lenType": 16,
    "lenVar": 40
   },
   "kernels_config": {
    "python": {
     "delete_cmd_postfix": "",
     "delete_cmd_prefix": "del ",
     "library": "var_list.py",
     "varRefreshCmd": "print(var_dic_list())"
    },
    "r": {
     "delete_cmd_postfix": ") ",
     "delete_cmd_prefix": "rm(",
     "library": "var_list.r",
     "varRefreshCmd": "cat(var_dic_list()) "
    }
   },
   "types_to_exclude": [
    "module",
    "function",
    "builtin_function_or_method",
    "instance",
    "_Feature"
   ],
   "window_display": false
  }
 },
 "nbformat": 4,
 "nbformat_minor": 4
}
